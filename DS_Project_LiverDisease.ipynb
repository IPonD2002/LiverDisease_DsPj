import pandas as pd
import matplotlib.pyplot as plt
import seaborn as sns

# โหลดข้อมูล
file_path = "/content/LPD.csv"
df = pd.read_csv(file_path, encoding='ISO-8859-1')

# ทำความสะอาดชื่อคอลัมน์
df.columns = df.columns.str.strip().str.replace(" ", "_")

# 1️⃣ Histogram - การกระจายตัวของอายุผู้ป่วย
plt.figure(figsize=(8, 5))
sns.histplot(df["Age_of_the_patient"], bins=20, kde=True)
plt.title("Age Distribution of Patients")
plt.xlabel("Age")
plt.ylabel("Count")
plt.show()

# 2️⃣ Boxplot - เปรียบเทียบค่าชีวเคมีระหว่างผู้ป่วยโรคตับกับผู้ที่ไม่มีโรค
biochemical_features = ["Total_Bilirubin", "Direct_Bilirubin", "Alkphos_Alkaline_Phosphotase",
                        "Sgpt_Alamine_Aminotransferase", "Sgot_Aspartate_Aminotransferase",
                        "Total_Protiens", "ALB_Albumin", "A/G_Ratio_Albumin_and_Globulin_Ratio"]

plt.figure(figsize=(12, 6))
df_melted = df.melt(id_vars=["Result"], value_vars=biochemical_features, var_name="Feature", value_name="Value")
sns.boxplot(x="Feature", y="Value", hue="Result", data=df_melted)
plt.xticks(rotation=45, ha="right")
plt.title("Comparison of Biochemical Features Between Liver Disease and Healthy Patients")
plt.xlabel("Biochemical Feature")
plt.ylabel("Value")
plt.legend(title="Diagnosis", labels=["Liver Disease", "Healthy"])
plt.show()

# 3️⃣ Heatmap - ความสัมพันธ์ระหว่างค่าทางชีวเคมี
plt.figure(figsize=(10, 6))
correlation_matrix = df[biochemical_features].corr()
sns.heatmap(correlation_matrix, annot=True, cmap="coolwarm", fmt=".2f")
plt.title("Correlation Heatmap of Biochemical Features")
plt.show()

# 4️⃣ Boxplot - เปรียบเทียบค่าชีวเคมีของเลือดระหว่างเพศชายและหญิง
plt.figure(figsize=(12, 6))
df_melted_gender = df.melt(id_vars=["Gender_of_the_patient"], value_vars=biochemical_features, var_name="Feature", value_name="Value")
sns.boxplot(x="Feature", y="Value", hue="Gender_of_the_patient", data=df_melted_gender)
plt.xticks(rotation=45, ha="right")
plt.title("Comparison of Biochemical Features Between Male and Female Patients")
plt.xlabel("Biochemical Feature")
plt.ylabel("Value")
plt.legend(title="Gender")
plt.show()

# 5️⃣ Pie Chart - อัตราส่วนผู้ป่วยโรคตับเทียบกับกลุ่มสุขภาพดี
plt.figure(figsize=(6, 6))
df["Result"].value_counts().plot.pie(autopct="%1.1f%%", labels=["Liver Disease", "Healthy"], colors=["red", "green"], startangle=90)
plt.title("Percentage of Liver Disease Patients vs Healthy Patients")
plt.ylabel("")
plt.show()

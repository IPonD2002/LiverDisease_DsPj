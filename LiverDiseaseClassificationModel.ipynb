{
  "nbformat": 4,
  "nbformat_minor": 0,
  "metadata": {
    "colab": {
      "provenance": [],
      "include_colab_link": true
    },
    "kernelspec": {
      "name": "python3",
      "display_name": "Python 3"
    },
    "language_info": {
      "name": "python"
    }
  },
  "cells": [
    {
      "cell_type": "markdown",
      "metadata": {
        "id": "view-in-github",
        "colab_type": "text"
      },
      "source": [
        "<a href=\"https://colab.research.google.com/github/IPonD2002/LiverDisease_DsPj/blob/main/LiverDiseaseClassificationModel.ipynb\" target=\"_parent\"><img src=\"https://colab.research.google.com/assets/colab-badge.svg\" alt=\"Open In Colab\"/></a>"
      ]
    },
    {
      "cell_type": "code",
      "source": [
        "import pandas as pd\n",
        "import matplotlib.pyplot as plt\n",
        "import seaborn as sns\n",
        "\n",
        "# โหลดข้อมูล\n",
        "file_path = \"/content/LPD.csv\"\n",
        "df = pd.read_csv(file_path, encoding='ISO-8859-1')\n",
        "\n",
        "# ทำความสะอาดชื่อคอลัมน์\n",
        "df.columns = df.columns.str.strip().str.replace(\" \", \"_\")\n",
        "\n",
        "# 1️⃣ Histogram - การกระจายตัวของอายุผู้ป่วย\n",
        "plt.figure(figsize=(8, 5))\n",
        "sns.histplot(df[\"Age_of_the_patient\"], bins=20, kde=True)\n",
        "plt.title(\"Age Distribution of Patients\")\n",
        "plt.xlabel(\"Age\")\n",
        "plt.ylabel(\"Count\")\n",
        "plt.show()\n",
        "\n",
        "# 2️⃣ Boxplot - เปรียบเทียบค่าชีวเคมีระหว่างผู้ป่วยโรคตับกับผู้ที่ไม่มีโรค\n",
        "biochemical_features = [\"Total_Bilirubin\", \"Direct_Bilirubin\", \"Alkphos_Alkaline_Phosphotase\",\n",
        "                        \"Sgpt_Alamine_Aminotransferase\", \"Sgot_Aspartate_Aminotransferase\",\n",
        "                        \"Total_Protiens\", \"ALB_Albumin\", \"A/G_Ratio_Albumin_and_Globulin_Ratio\"]\n",
        "\n",
        "plt.figure(figsize=(12, 6))\n",
        "df_melted = df.melt(id_vars=[\"Result\"], value_vars=biochemical_features, var_name=\"Feature\", value_name=\"Value\")\n",
        "sns.boxplot(x=\"Feature\", y=\"Value\", hue=\"Result\", data=df_melted)\n",
        "plt.xticks(rotation=45, ha=\"right\")\n",
        "plt.title(\"Comparison of Biochemical Features Between Liver Disease and Healthy Patients\")\n",
        "plt.xlabel(\"Biochemical Feature\")\n",
        "plt.ylabel(\"Value\")\n",
        "plt.legend(title=\"Diagnosis\", labels=[\"Liver Disease\", \"Healthy\"])\n",
        "plt.show()\n",
        "\n",
        "# 3️⃣ Heatmap - ความสัมพันธ์ระหว่างค่าทางชีวเคมี\n",
        "plt.figure(figsize=(10, 6))\n",
        "correlation_matrix = df[biochemical_features].corr()\n",
        "sns.heatmap(correlation_matrix, annot=True, cmap=\"coolwarm\", fmt=\".2f\")\n",
        "plt.title(\"Correlation Heatmap of Biochemical Features\")\n",
        "plt.show()\n",
        "\n",
        "# 4️⃣ Boxplot - เปรียบเทียบค่าชีวเคมีของเลือดระหว่างเพศชายและหญิง\n",
        "plt.figure(figsize=(12, 6))\n",
        "df_melted_gender = df.melt(id_vars=[\"Gender_of_the_patient\"], value_vars=biochemical_features, var_name=\"Feature\", value_name=\"Value\")\n",
        "sns.boxplot(x=\"Feature\", y=\"Value\", hue=\"Gender_of_the_patient\", data=df_melted_gender)\n",
        "plt.xticks(rotation=45, ha=\"right\")\n",
        "plt.title(\"Comparison of Biochemical Features Between Male and Female Patients\")\n",
        "plt.xlabel(\"Biochemical Feature\")\n",
        "plt.ylabel(\"Value\")\n",
        "plt.legend(title=\"Gender\")\n",
        "plt.show()\n",
        "\n",
        "# 5️⃣ Pie Chart - อัตราส่วนผู้ป่วยโรคตับเทียบกับกลุ่มสุขภาพดี\n",
        "plt.figure(figsize=(6, 6))\n",
        "df[\"Result\"].value_counts().plot.pie(autopct=\"%1.1f%%\", labels=[\"Liver Disease\", \"Healthy\"], colors=[\"red\", \"green\"], startangle=90)\n",
        "plt.title(\"Percentage of Liver Disease Patients vs Healthy Patients\")\n",
        "plt.ylabel(\"\")\n",
        "plt.show()\n"
      ],
      "metadata": {
        "id": "152-v9nmZ5ob"
      },
      "execution_count": null,
      "outputs": []
    },
    {
      "cell_type": "code",
      "execution_count": null,
      "metadata": {
        "id": "13sgO5c-ZgtJ"
      },
      "outputs": [],
      "source": [
        "\n",
        "import pandas as pd\n",
        "import numpy as np\n",
        "import matplotlib.pyplot as plt\n",
        "import seaborn as sns\n",
        "\n",
        "\n",
        "filepath = \"/content/LPD.csv\"\n",
        "df = pd.read_csv(filepath,encoding='latin-1')"
      ]
    },
    {
      "cell_type": "code",
      "source": [
        "df.head()"
      ],
      "metadata": {
        "id": "nYv7QOJKZ2YJ"
      },
      "execution_count": null,
      "outputs": []
    },
    {
      "cell_type": "code",
      "source": [
        "print(\"\\nขนาดของข้อมูล (Rows x Columns):\", df.shape)"
      ],
      "metadata": {
        "id": "aFTqzA3QapD8"
      },
      "execution_count": null,
      "outputs": []
    },
    {
      "cell_type": "code",
      "source": [
        "df.describe()"
      ],
      "metadata": {
        "id": "Cu6l9JcydUOB"
      },
      "execution_count": null,
      "outputs": []
    },
    {
      "cell_type": "code",
      "source": [
        "df.info()"
      ],
      "metadata": {
        "id": "hQt0-Pcrune_"
      },
      "execution_count": null,
      "outputs": []
    },
    {
      "cell_type": "code",
      "source": [
        "duplicate_rows = df[df.duplicated()]\n",
        "print(f\"พบข้อมูลที่ซ้ำกันทั้งหมด {duplicate_rows.shape[0]} แถว\")"
      ],
      "metadata": {
        "id": "mYemGdoazqkY"
      },
      "execution_count": null,
      "outputs": []
    },
    {
      "cell_type": "code",
      "source": [
        "df[df.duplicated()]\n"
      ],
      "metadata": {
        "id": "Q4Y3EPPp49_I"
      },
      "execution_count": null,
      "outputs": []
    },
    {
      "cell_type": "code",
      "source": [
        "# เลือกคอลัมน์ที่เป็นตัวเลข (float และ int)\n",
        "num_cols = df.select_dtypes(include=['float64', 'int64']).columns\n",
        "\n",
        "# ลบคอลัมน์ Result ออกจาก num_cols เพราะจะแยกไปทำกราฟแท่ง\n",
        "num_cols = [col for col in num_cols if col != 'Result']\n",
        "\n",
        "# คำนวณจำนวนแถวและคอลัมน์สำหรับ subplot (แถวละ 2 กราฟ)\n",
        "n_rows = (len(num_cols) + 1) // 2  # หารปัดขึ้น\n",
        "n_cols = 2\n",
        "\n",
        "# สร้าง subplot\n",
        "fig, axes = plt.subplots(n_rows, n_cols, figsize=(15, 5 * n_rows))\n",
        "axes = axes.flatten()  # ทำให้เป็นอาร์เรย์ 1 มิติ\n",
        "\n",
        "# วนลูปสร้าง histogram สำหรับแต่ละคอลัมน์ตัวเลข\n",
        "for i, col in enumerate(num_cols):\n",
        "    # ใช้ bw_adjust เพื่อให้เส้น KDE ไม่ขาด (ค่าต่ำทำให้เส้นเรียบขึ้น, ค่าสูงทำให้เส้นแสดงรายละเอียดมากขึ้น)\n",
        "    sns.histplot(df[col], bins=30, kde=True, kde_kws={'bw_adjust': 1.5}, ax=axes[i])\n",
        "    axes[i].set_title(f\"Histogram of {col}\")\n",
        "    axes[i].set_xlabel(col)\n",
        "    axes[i].set_ylabel(\"Frequency\")\n",
        "\n",
        "    # ปรับค่าขอบเขตของแกน x ให้ครอบคลุมข้อมูลทั้งหมด แต่ไม่กว้างเกินไป\n",
        "    x_min, x_max = df[col].min(), df[col].max()\n",
        "    margin = (x_max - x_min) * 0.05  # เพิ่ม margin 5%\n",
        "    axes[i].set_xlim(x_min - margin, x_max + margin)\n",
        "\n",
        "# ถ้ามีกราฟเหลือ (กรณีที่จำนวน num_cols เป็นเลขคี่) ให้ซ่อนกราฟที่เหลือ\n",
        "for i in range(len(num_cols), len(axes)):\n",
        "    axes[i].set_visible(False)\n",
        "\n",
        "plt.tight_layout()\n",
        "plt.show()\n",
        "\n",
        "# สร้างกราฟแท่งสำหรับ Gender (สลับแกน x, y)\n",
        "plt.figure(figsize=(10, 5))\n",
        "gender_counts = df['Gender of the patient'].value_counts().reset_index()\n",
        "gender_counts.columns = ['Gender', 'Count']\n",
        "\n",
        "# ใช้ barplot โดยสลับแกน x, y\n",
        "ax = sns.barplot(y='Gender', x='Count', data=gender_counts, color='royalblue')\n",
        "plt.title('Gender Comparison')\n",
        "plt.ylabel('Gender of the patient')\n",
        "plt.xlabel('Count')\n",
        "\n",
        "# เพิ่มข้อความจำนวนข้างแท่ง\n",
        "for i, count in enumerate(gender_counts['Count']):\n",
        "    ax.text(count + 100, i, str(count), va='center')\n",
        "\n",
        "plt.tight_layout()\n",
        "plt.show()\n",
        "\n",
        "# สร้างกราฟแท่งสำหรับ Result พร้อมคำอธิบาย (สลับแกน x, y)\n",
        "plt.figure(figsize=(12, 6))\n",
        "\n",
        "# สร้างข้อมูลสำหรับกราฟ Result\n",
        "result_counts = df['Result'].value_counts().reset_index()\n",
        "result_counts.columns = ['Result', 'Count']\n",
        "\n",
        "# สร้าง labels ที่มีทั้งตัวเลขและคำอธิบาย\n",
        "result_counts['Result_Label'] = result_counts['Result'].apply(\n",
        "    lambda x: f\"{int(x)} ({'Liver Patient' if x == 1 else 'non Liver Patient'})\"\n",
        ")\n",
        "\n",
        "# ใช้ barplot โดยสลับแกน x, y และใช้ Result_Label แทน Result\n",
        "ax = sns.barplot(y='Result_Label', x='Count', data=result_counts, color='royalblue')\n",
        "\n",
        "plt.title('Result Comparison', fontsize=14)\n",
        "plt.ylabel('Result', fontsize=12)\n",
        "plt.xlabel('Count', fontsize=12)\n",
        "\n",
        "# เพิ่มจำนวนข้างแท่ง\n",
        "for i, count in enumerate(result_counts['Count']):\n",
        "    ax.text(count + 100, i, str(count), va='center')\n",
        "\n",
        "plt.tight_layout()\n",
        "plt.show()"
      ],
      "metadata": {
        "id": "qXDBzll_ryBG"
      },
      "execution_count": null,
      "outputs": []
    },
    {
      "cell_type": "code",
      "source": [
        "import matplotlib.pyplot as plt\n",
        "import seaborn as sns\n",
        "import numpy as np\n",
        "# เพิ่มการ import Patch\n",
        "from matplotlib.patches import Patch\n",
        "\n",
        "# เลือกเฉพาะตัวแปรที่เป็นตัวเลข และไม่นับ 'result' กับ 'gender'\n",
        "num_cols = df.select_dtypes(include=['float64', 'int64']).columns.difference(['Result', 'Gender of the patient'])\n",
        "\n",
        "# กำหนดจำนวนแถวและคอลัมน์ (2 กราฟต่อแถว)\n",
        "n_cols = 2\n",
        "n_rows = (len(num_cols) + 1) // 2  # หารปัดขึ้น\n",
        "\n",
        "# สร้าง subplots\n",
        "fig, axes = plt.subplots(n_rows, n_cols, figsize=(16, 6 * n_rows))\n",
        "\n",
        "# ทำให้ axes เป็น array 1 มิติเพื่อง่ายต่อการวนลูป\n",
        "if n_rows > 1:\n",
        "    axes = axes.flatten()\n",
        "elif n_cols == 1:\n",
        "    axes = [axes]\n",
        "else:\n",
        "    # กรณีมีเพียง subplot เดียว (1 แถว 1 คอลัมน์)\n",
        "    axes = [axes]\n",
        "\n",
        "# สร้าง color palette ที่ชัดเจน พร้อมกับกำหนดความหมาย\n",
        "colors = {1: '#ff9999', 2: '#66b3ff'}\n",
        "labels = {1: \"1 (Liver Patient)\", 2: \"2 (non Liver Patient)\"}\n",
        "\n",
        "# วาด KDE plot ของแต่ละตัวแปรแยกตาม 'Result'\n",
        "for i, col in enumerate(num_cols):\n",
        "    # ถ้ามีจำนวนกราฟน้อยกว่าจำนวน axes\n",
        "    if i < len(axes):\n",
        "        # สร้าง KDE plot ที่มองเห็นได้ชัดเจน\n",
        "        sns.kdeplot(\n",
        "            data=df,\n",
        "            x=col,\n",
        "            hue=\"Result\",\n",
        "            fill=True,\n",
        "            common_norm=False,\n",
        "            alpha=0.6,\n",
        "            ax=axes[i],\n",
        "            palette=colors,\n",
        "            linewidth=2.5,\n",
        "            bw_adjust=1.2  # ปรับความเรียบของเส้น\n",
        "        )\n",
        "\n",
        "        # ตั้งชื่อกราฟและแกน\n",
        "        axes[i].set_title(f\"KDE Plot of {col} by Result\", fontsize=14, pad=10)\n",
        "        axes[i].set_xlabel(col, fontsize=12)\n",
        "        axes[i].set_ylabel(\"Density\", fontsize=12)\n",
        "\n",
        "        # ปรับให้กราฟอ่านง่ายขึ้น\n",
        "        axes[i].grid(alpha=0.3)\n",
        "\n",
        "        # สร้าง custom legend ที่อธิบายความหมายของสีอย่างชัดเจน\n",
        "        legend_elements = [\n",
        "            Patch(facecolor=colors[1], edgecolor='black', alpha=0.6, label=labels[1]),\n",
        "            Patch(facecolor=colors[2], edgecolor='black', alpha=0.6, label=labels[2])\n",
        "        ]\n",
        "\n",
        "        # เพิ่ม custom legend\n",
        "        axes[i].legend(\n",
        "            handles=legend_elements,\n",
        "            title=\"Result\",\n",
        "            fontsize=10,\n",
        "            loc='upper right'\n",
        "        )\n",
        "\n",
        "        # ปรับขอบเขตของแกน x ให้ปรับสเกลอัตโนมัติโดยตัดค่า outlier ออก\n",
        "        # เพื่อให้กราฟมองเห็นได้ชัดเจน\n",
        "        if df[col].min() < 0:\n",
        "            # กรณีมีค่าติดลบ\n",
        "            x_min = df[col].min()\n",
        "        else:\n",
        "            # กรณีไม่มีค่าติดลบ เริ่มที่ 0\n",
        "            x_min = 0\n",
        "\n",
        "        # คำนวณเปอร์เซ็นไทล์ที่ 99 เพื่อตัด outlier\n",
        "        x_max = df[col].quantile(0.99)\n",
        "\n",
        "        # ถ้า x_max ใกล้เคียง x_min มากเกินไป ให้ขยายช่วงออก\n",
        "        if (x_max - x_min) < df[col].std():\n",
        "            x_max = x_min + df[col].std() * 3\n",
        "\n",
        "        axes[i].set_xlim(x_min, x_max)\n",
        "\n",
        "# ซ่อนแกนที่ไม่ได้ใช้\n",
        "for j in range(len(num_cols), len(axes)):\n",
        "    if j < len(axes):  # ป้องกันกรณีที่ axes มีเพียงตัวเดียว\n",
        "        axes[j].set_visible(False)\n",
        "\n",
        "plt.tight_layout()\n",
        "plt.show()"
      ],
      "metadata": {
        "id": "4uukQYsE7ed2"
      },
      "execution_count": null,
      "outputs": []
    },
    {
      "cell_type": "code",
      "source": [
        "import matplotlib.pyplot as plt\n",
        "import seaborn as sns\n",
        "\n",
        "# แปลงค่า 0 และ 1 ใน gender ให้เป็น 'Male' และ 'Female'\n",
        "df['Gender of the patient'] = df['Gender of the patient'].replace({0: 'Female', 1: 'Male'})\n",
        "\n",
        "# ตั้งค่าขนาดของกราฟ\n",
        "plt.figure(figsize=(12, 5))\n",
        "\n",
        "# พล็อตกราฟแนวนอน\n",
        "sns.countplot(data=df, y=\"Gender of the patient\", hue=\"Result\", palette=\"coolwarm\")\n",
        "\n",
        "# ใส่ชื่อแกนและ Title\n",
        "plt.ylabel(\"Gender\")  # แกน Y เป็น Gender\n",
        "plt.xlabel(\"Count\")  # แกน X เป็นจำนวน\n",
        "plt.title(\"Gender vs Result Comparison\")  # ชื่อกราฟ\n",
        "\n",
        "# แสดงค่าบนแท่งกราฟ\n",
        "for container in plt.gca().containers:\n",
        "    plt.gca().bar_label(container, fmt=\"%d\")\n",
        "\n",
        "plt.show()"
      ],
      "metadata": {
        "id": "S418x4-B7-U6"
      },
      "execution_count": null,
      "outputs": []
    },
    {
      "cell_type": "code",
      "source": [
        "'''num_cols = df.select_dtypes(include=['float64', 'int64']).columns  # เลือกเฉพาะตัวแปรเชิงตัวเลข\n",
        "\n",
        "fig, axes = plt.subplots(len(num_cols) // 3 + 1, 3, figsize=(15, 5 * (len(num_cols) // 3 + 1)))\n",
        "axes = axes.flatten()\n",
        "\n",
        "for i, col in enumerate(num_cols):\n",
        "    sns.histplot(df[col], bins=30, kde=True, ax=axes[i])\n",
        "    axes[i].set_title(f\"Histogram of {col}\")\n",
        "    axes[i].set_xlabel(col)\n",
        "    axes[i].set_ylabel(\"Frequency\")\n",
        "\n",
        "plt.tight_layout()\n",
        "plt.show()'''"
      ],
      "metadata": {
        "id": "OCLsvBAsqelf"
      },
      "execution_count": null,
      "outputs": []
    },
    {
      "cell_type": "code",
      "source": [
        "# Display the original columns\n",
        "print(\"Original columns:\")\n",
        "print(df.columns.tolist())\n",
        "\n",
        "# Drop the specified columns\n",
        "columns_to_drop = ['A/G Ratio Albumin and Globulin Ratio',\n",
        "                   'Total Protiens']\n",
        "df = df.drop(columns=columns_to_drop)\n",
        "\n",
        "# Display the remaining columns\n",
        "print(\"\\nColumns after dropping:\")\n",
        "print(df.columns.tolist())"
      ],
      "metadata": {
        "id": "2ZGGEU-A0Qh-"
      },
      "execution_count": null,
      "outputs": []
    },
    {
      "cell_type": "code",
      "source": [
        "# ตรวจสอบแถวที่ซ้ำทั้งหมด\n",
        "print(df.duplicated().sum())\n",
        "\n",
        "# ตรวจสอบแถวที่ซ้ำเฉพาะในบางคอลัมน์\n",
        "print(df.duplicated(subset=['Age of the patient', 'Gender of the patient']).sum())\n"
      ],
      "metadata": {
        "id": "-WTQJIGk0GyO"
      },
      "execution_count": null,
      "outputs": []
    },
    {
      "cell_type": "code",
      "source": [
        "# ลบแถวที่ซ้ำกันทั้งหมด แต่เก็บแถวแรกไว้\n",
        "df = df.drop_duplicates()\n",
        "# ตรวจสอบขนาดข้อมูลใหม่\n",
        "print(f\"ขนาดของข้อมูลหลังลบ: {df.shape[0]} แถว\")\n",
        "\n",
        "# บันทึกข้อมูลใหม่\n",
        "df.to_csv(\"LPD_Cleaned.csv\", index=False)\n"
      ],
      "metadata": {
        "id": "3gajXZKb0uTp"
      },
      "execution_count": null,
      "outputs": []
    },
    {
      "cell_type": "code",
      "source": [
        "df.shape"
      ],
      "metadata": {
        "id": "6JmcJW0A115e"
      },
      "execution_count": null,
      "outputs": []
    },
    {
      "cell_type": "code",
      "source": [
        "df.isnull().sum() #Missing Value"
      ],
      "metadata": {
        "id": "wc_AaPGxcmE7"
      },
      "execution_count": null,
      "outputs": []
    },
    {
      "cell_type": "code",
      "source": [
        "(df.isnull().sum() / len(df)) * 100 #คำนวณเปอร์เซ็นต์ Missing Values"
      ],
      "metadata": {
        "id": "4S5owTYrhuoG"
      },
      "execution_count": null,
      "outputs": []
    },
    {
      "cell_type": "code",
      "source": [
        "import pandas as pd\n",
        "import numpy as np\n",
        "\n",
        "numeric_cols = df.select_dtypes(include=[np.number]).columns\n",
        "for col in numeric_cols:\n",
        "    if df[col].isnull().sum() > 0:\n",
        "        median_val = df[col].median()\n",
        "        df[col] = df[col].fillna(median_val)\n",
        "        print(f\"เติม Missing ใน '{col}' ด้วย Median: {median_val}\")"
      ],
      "metadata": {
        "id": "_LB8jkvmjBp2"
      },
      "execution_count": null,
      "outputs": []
    },
    {
      "cell_type": "markdown",
      "source": [
        "Numeric Features เติม Median เนื่องจากค่าต่าง ๆ เช่น Bilirubin, AST, ALT, Alkaline Phosphotase เป็นตัวเลขที่อาจมีการกระจายตัวแบบเบ้ (skewed) และมี outliers"
      ],
      "metadata": {
        "id": "VhoJjy6HlDXe"
      }
    },
    {
      "cell_type": "markdown",
      "source": [
        "Categorical (Gender) เติมแบบ Mode เพราะเป็นข้อมูล เพศ (Gender) ซึ่งเป็นข้อมูลประเภทหมวดหมู่ (Male/Female)"
      ],
      "metadata": {
        "id": "gbjF66Spnkln"
      }
    },
    {
      "cell_type": "code",
      "source": [
        "import pandas as pd\n",
        "\n",
        "# Load the dataset\n",
        "\n",
        "# Calculate the number and percentage of missing values per column\n",
        "missing_count = df.isnull().sum()\n",
        "missing_percent = 100 * df.isnull().mean()\n",
        "\n",
        "# Create a summary DataFrame\n",
        "missing_summary = pd.DataFrame({\n",
        "    'Missing Count': missing_count,\n",
        "    'Missing Percentage': missing_percent\n",
        "})\n",
        "\n",
        "print(missing_summary)\n"
      ],
      "metadata": {
        "id": "7SmB3GCSvmuK"
      },
      "execution_count": null,
      "outputs": []
    },
    {
      "cell_type": "code",
      "source": [
        "import pandas as pd\n",
        "import numpy as np\n",
        "\n",
        "categorical_cols = df.select_dtypes(include=['object']).columns\n",
        "\n",
        "for col in categorical_cols:\n",
        "    if df[col].isnull().sum() > 0:\n",
        "        mode_val = df[col].mode()[0]\n",
        "        df[col] = df[col].fillna(mode_val)\n",
        "        print(f\"เติม Missing ใน '{col}' ด้วย Mode: {mode_val}\")\n"
      ],
      "metadata": {
        "id": "EJxtyHRwkN0a"
      },
      "execution_count": null,
      "outputs": []
    },
    {
      "cell_type": "code",
      "source": [
        "print(df.isnull().sum())"
      ],
      "metadata": {
        "id": "pDg6AaTOmNq2"
      },
      "execution_count": null,
      "outputs": []
    },
    {
      "cell_type": "code",
      "source": [
        "import seaborn as sns\n",
        "import matplotlib.pyplot as plts\n",
        "\n",
        "numeric_cols = df.select_dtypes(include=[np.number]).columns\n",
        "for col in numeric_cols:\n",
        "    plt.figure(figsize=(6, 4))\n",
        "    sns.boxplot(x=df[col])\n",
        "    plt.title(f\"Boxplot of {col}\")\n",
        "    plt.show()\n"
      ],
      "metadata": {
        "id": "a9LHc5bGnexl"
      },
      "execution_count": null,
      "outputs": []
    },
    {
      "cell_type": "code",
      "source": [
        "df.info()"
      ],
      "metadata": {
        "id": "Tno_-s2M_r-N"
      },
      "execution_count": null,
      "outputs": []
    },
    {
      "cell_type": "code",
      "source": [
        "def remove_outliers_iqr(df, column):\n",
        "    Q1 = df[column].quantile(0.25)\n",
        "    Q3 = df[column].quantile(0.75)\n",
        "    IQR = Q3 - Q1\n",
        "\n",
        "    lower_bound = Q1 - 1.5 * IQR\n",
        "    upper_bound = Q3 + 1.5 * IQR\n",
        "\n",
        "    return df[(df[column] >= lower_bound) & (df[column] <= upper_bound)]\n",
        "\n",
        "# Get only the numeric columns (skip non-numeric columns like Gender)\n",
        "numeric_columns = df.select_dtypes(include=['float64', 'int64']).columns.tolist()\n",
        "\n",
        "# Display how many rows in the original DataFrame\n",
        "print(f\"Original DataFrame shape: {df.shape}\")\n",
        "\n",
        "# Remove outliers from each numeric column sequentially\n",
        "for column in numeric_columns:\n",
        "    # Skip the Result column if it's a target variable you want to keep intact\n",
        "    if column == 'Result':\n",
        "        continue\n",
        "\n",
        "    original_size = df.shape[0]\n",
        "    df = remove_outliers_iqr(df, column)\n",
        "    removed = original_size - df.shape[0]\n",
        "\n",
        "    print(f\"Removed {removed} outliers from {column}. Remaining rows: {df.shape[0]}\")\n",
        "\n",
        "# Display final DataFrame shape\n",
        "print(f\"Final DataFrame shape after outlier removal: {df.shape}\")"
      ],
      "metadata": {
        "id": "GS2YN5X0_0jx"
      },
      "execution_count": null,
      "outputs": []
    },
    {
      "cell_type": "code",
      "source": [
        "numeric_cols = df.select_dtypes(include=[np.number]).columns\n",
        "for col in numeric_cols:\n",
        "    plt.figure(figsize=(6, 4))\n",
        "    sns.boxplot(x=df[col])\n",
        "    plt.title(f\"Boxplot of {col}\")\n",
        "    plt.show()\n",
        "df.shape"
      ],
      "metadata": {
        "id": "F5iTMBfZ_7zd"
      },
      "execution_count": null,
      "outputs": []
    },
    {
      "cell_type": "code",
      "source": [
        "!pip install ydata-profiling"
      ],
      "metadata": {
        "collapsed": true,
        "id": "4abpwCd9ftf8"
      },
      "execution_count": null,
      "outputs": []
    },
    {
      "cell_type": "code",
      "source": [
        "from ydata_profiling import ProfileReport\n",
        "profile = ProfileReport(df, title=\"LiverPatient_DSPJ\", explorative=True)\n",
        "# บันทึกรํายงํานเป็นไฟล์ HTML\n",
        "profile.to_file(\"data_profile_report.html\")"
      ],
      "metadata": {
        "id": "tkSHpN-te3dK",
        "collapsed": true
      },
      "execution_count": null,
      "outputs": []
    },
    {
      "cell_type": "code",
      "source": [
        "from sklearn.model_selection import train_test_split\n",
        "\n",
        "\n",
        "X = df.drop(columns=[\"Result\"])\n",
        "y = df[\"Result\"]\n"
      ],
      "metadata": {
        "id": "-d9TkVesqHez"
      },
      "execution_count": null,
      "outputs": []
    },
    {
      "cell_type": "code",
      "source": [
        "# ดูตัวอย่างข้อมูลจริงก่อนแปลง\n",
        "print(df[\"Gender of the patient\"].head(10))\n",
        "\n",
        "# ทดลองแปลงใหม่ให้ชัดเจน\n",
        "from sklearn.preprocessing import LabelEncoder\n",
        "le = LabelEncoder()\n",
        "df[\"Gender of the patient\"] = le.fit_transform(df[\"Gender of the patient\"])\n",
        "\n",
        "# ตรวจสอบหลังแปลง\n",
        "print(df[\"Gender of the patient\"].head(10))"
      ],
      "metadata": {
        "id": "3LLRzRFLDXdO"
      },
      "execution_count": null,
      "outputs": []
    },
    {
      "cell_type": "code",
      "source": [
        "df.dtypes"
      ],
      "metadata": {
        "id": "GxFOqnXLq9R9"
      },
      "execution_count": null,
      "outputs": []
    },
    {
      "cell_type": "code",
      "source": [
        "print(df[\"Gender of the patient\"].unique())"
      ],
      "metadata": {
        "id": "1Ke_vW29rMC9"
      },
      "execution_count": null,
      "outputs": []
    },
    {
      "cell_type": "code",
      "source": [
        "# แบ่งข้อมูลเป็น 80% Train, 20% Test\n",
        "X_train, X_test, y_train, y_test = train_test_split(X, y, test_size=0.2, random_state=42)\n",
        "\n",
        "print(f\"Training Data: {X_train.shape}, Test Data: {X_test.shape}\")"
      ],
      "metadata": {
        "id": "VTKljh7yqNog"
      },
      "execution_count": null,
      "outputs": []
    },
    {
      "cell_type": "code",
      "source": [
        "print(\"Training set (X_train):\", X_train.shape)\n",
        "print(\"Test set (X_test):\", X_test.shape)\n",
        "print(\"Training labels (y_train):\", y_train.shape)\n",
        "print(\"Test labels (y_test):\", y_test.shape)"
      ],
      "metadata": {
        "id": "sE7k8I4mqu2u"
      },
      "execution_count": null,
      "outputs": []
    },
    {
      "cell_type": "code",
      "source": [
        "print(y_train.value_counts())"
      ],
      "metadata": {
        "id": "VlQRoihPA9Z9"
      },
      "execution_count": null,
      "outputs": []
    },
    {
      "cell_type": "code",
      "source": [
        "df.info()"
      ],
      "metadata": {
        "id": "NUZgnnuvCHZU"
      },
      "execution_count": null,
      "outputs": []
    },
    {
      "cell_type": "code",
      "source": [
        "from sklearn.preprocessing import StandardScaler\n",
        "import pandas as pd\n",
        "import numpy as np\n",
        "\n",
        "# เลือกคอลัมน์ตัวเลขทั้งหมดยกเว้น Gender of the patient และ Result\n",
        "numeric_columns = df.select_dtypes(include=['float64', 'int64']).columns\n",
        "columns_to_scale = [col for col in numeric_columns if col != 'Gender of the patient' and col != 'Result']\n",
        "\n",
        "print(f\"Columns selected for scaling: {columns_to_scale}\")\n",
        "\n",
        "# แยกข้อมูลเป็น features และ target\n",
        "X = df.drop('Result', axis=1) if 'Result' in df.columns else df.copy()\n",
        "y = df['Result'] if 'Result' in df.columns else None\n",
        "\n",
        "# สร้าง DataFrame ใหม่สำหรับเก็บข้อมูลที่ standardize แล้ว\n",
        "X_processed = X.copy()\n",
        "\n",
        "# ใช้ StandardScaler เฉพาะกับคอลัมน์ที่ต้องการ\n",
        "scaler = StandardScaler()\n",
        "X_processed[columns_to_scale] = scaler.fit_transform(X[columns_to_scale])\n",
        "\n",
        "print(f\"Original data first few rows:\\n{X.head()}\")\n",
        "print(f\"\\nScaled data first few rows:\\n{X_processed.head()}\")\n",
        "print(f\"\\nScaled data shape: {X_processed.shape}\")\n",
        "print(\"Scaling completed successfully\")\n",
        "\n",
        "# ตรวจสอบว่า Gender ไม่ได้ถูก scale จริงๆ\n",
        "if 'Gender of the patient' in X.columns:\n",
        "    original_gender_values = X['Gender of the patient'].unique()\n",
        "    scaled_gender_values = X_processed['Gender of the patient'].unique()\n",
        "\n",
        "    print(f\"\\nOriginal unique Gender values: {original_gender_values}\")\n",
        "    print(f\"Scaled unique Gender values: {scaled_gender_values}\")\n",
        "\n",
        "    if np.array_equal(original_gender_values, scaled_gender_values):\n",
        "        print(\"✓ Confirmation: Gender values were NOT scaled\")\n",
        "    else:\n",
        "        print(\"✗ Warning: Gender values were changed during processing\")"
      ],
      "metadata": {
        "id": "j2qpXpB7B3Bu"
      },
      "execution_count": null,
      "outputs": []
    },
    {
      "cell_type": "code",
      "source": [
        "# LinearSVC\n",
        "# 2. เลือกโมเดล(Choose Model)\n",
        "from sklearn.svm import LinearSVC\n",
        "from sklearn.metrics import confusion_matrix\n",
        "from sklearn.metrics import precision_score\n",
        "from sklearn.metrics import recall_score\n",
        "from sklearn.metrics import f1_score\n",
        "model = LinearSVC(random_state=42)\n",
        "# 3. ฝึกโมเดล (Train Model)\n",
        "model.fit(X_train, y_train)\n",
        "y_pred = model.predict(X_test)\n",
        "# 4. ทํานายผลลัพธ์ (Make Predictions)\n",
        "from sklearn.metrics import accuracy_score\n",
        "# 5. ประเมินผล (Evaluate Model)\n",
        "print(accuracy_score(y_test, y_pred))\n",
        "print(confusion_matrix(y_test, y_pred))\n",
        "print(precision_score(y_test, y_pred))\n",
        "print(recall_score(y_test, y_pred))\n",
        "print(f1_score(y_test, y_pred))"
      ],
      "metadata": {
        "id": "Rm2Bk-9TDABG"
      },
      "execution_count": null,
      "outputs": []
    },
    {
      "cell_type": "code",
      "source": [
        "# KNeighborsClassifier\n",
        "\n",
        "# 2. เลือกโมเดล (Choose Model)\n",
        "from sklearn.neighbors import KNeighborsClassifier\n",
        "model = KNeighborsClassifier(n_neighbors=5)\n",
        "\n",
        "# 3. ฝึกโมเดล (Train Model)\n",
        "model.fit(X_train, y_train)\n",
        "\n",
        "# 4.ทํานายผลลัพธ์ (Make Predictions)\n",
        "y_pred = model.predict(X_test)\n",
        "\n",
        "# 5.ประเมินผล (Evaluate Model)\n",
        "print(accuracy_score(y_test, y_pred))\n",
        "print(confusion_matrix(y_test, y_pred))\n",
        "print(precision_score(y_test, y_pred))\n",
        "print(recall_score(y_test, y_pred))\n",
        "print(f1_score(y_test, y_pred))"
      ],
      "metadata": {
        "id": "hdeHO4X6DvWi"
      },
      "execution_count": null,
      "outputs": []
    },
    {
      "cell_type": "code",
      "source": [
        "# SVC\n",
        "# 2.เลือกโมเดล (Choose Model)\n",
        "from sklearn.svm import SVC\n",
        "model = SVC(kernel='rbf', random_state=42)\n",
        "# 3. ฝึกโมเดล (Train Model)\n",
        "model.fit(X_train, y_train)\n",
        "# 4. ทํานายผลลัพธ์ (Make Predictions)\n",
        "y_pred = model.predict(X_test)\n",
        "# 5. ประเมินผล (Evaluate Model)\n",
        "print(accuracy_score(y_test, y_pred))\n",
        "print(confusion_matrix(y_test, y_pred))\n",
        "print(precision_score(y_test, y_pred))\n",
        "print(recall_score(y_test, y_pred))\n",
        "print(f1_score(y_test, y_pred))"
      ],
      "metadata": {
        "id": "Lnx8wTA-D5Uw"
      },
      "execution_count": null,
      "outputs": []
    },
    {
      "cell_type": "code",
      "source": [
        "from sklearn.ensemble import RandomForestClassifier\n",
        "model = RandomForestClassifier(n_estimators=100,\n",
        "random_state=42)\n",
        "model.fit(X_train, y_train)\n",
        "y_pred = model.predict(X_test)\n",
        "print(accuracy_score(y_test, y_pred))\n",
        "print(confusion_matrix(y_test, y_pred))\n",
        "print(precision_score(y_test, y_pred))\n",
        "print(recall_score(y_test, y_pred))\n",
        "print(f1_score(y_test, y_pred))"
      ],
      "metadata": {
        "id": "XBXI2QUxEC5I"
      },
      "execution_count": null,
      "outputs": []
    },
    {
      "cell_type": "code",
      "source": [
        "from sklearn.ensemble import GradientBoostingClassifier\n",
        "model = GradientBoostingClassifier(n_estimators=100,\n",
        "learning_rate=0.1, random_state=42)\n",
        "model.fit(X_train, y_train)\n",
        "y_pred = model.predict(X_test)\n",
        "print(accuracy_score(y_test, y_pred))\n",
        "print(confusion_matrix(y_test, y_pred))\n",
        "print(precision_score(y_test, y_pred))\n",
        "print(recall_score(y_test, y_pred))\n",
        "print(f1_score(y_test, y_pred))"
      ],
      "metadata": {
        "id": "DAlRuV06HNne"
      },
      "execution_count": null,
      "outputs": []
    },
    {
      "cell_type": "code",
      "source": [
        "from sklearn.ensemble import BaggingClassifier\n",
        "model = BaggingClassifier(n_estimators=100,\n",
        "random_state=42)\n",
        "model.fit(X_train, y_train)\n",
        "y_pred = model.predict(X_test)\n",
        "print(accuracy_score(y_test, y_pred))\n",
        "print(confusion_matrix(y_test, y_pred))\n",
        "print(precision_score(y_test, y_pred))\n",
        "print(recall_score(y_test, y_pred))\n",
        "print(f1_score(y_test, y_pred))"
      ],
      "metadata": {
        "id": "rYe04ZORHmaK"
      },
      "execution_count": null,
      "outputs": []
    },
    {
      "cell_type": "code",
      "source": [
        "from sklearn.ensemble import AdaBoostClassifier\n",
        "model = AdaBoostClassifier(n_estimators=100,\n",
        "random_state=42)\n",
        "model.fit(X_train, y_train)\n",
        "y_pred = model.predict(X_test)\n",
        "print(accuracy_score(y_test, y_pred))\n",
        "print(confusion_matrix(y_test, y_pred))\n",
        "print(precision_score(y_test, y_pred))\n",
        "print(recall_score(y_test, y_pred))\n",
        "print(f1_score(y_test, y_pred))"
      ],
      "metadata": {
        "id": "H7Fk61zyH9rQ"
      },
      "execution_count": null,
      "outputs": []
    },
    {
      "cell_type": "code",
      "source": [
        "from sklearn.ensemble import ExtraTreesClassifier\n",
        "model = ExtraTreesClassifier(n_estimators=100,\n",
        "random_state=42)\n",
        "model.fit(X_train, y_train)\n",
        "y_pred = model.predict(X_test)\n",
        "print(accuracy_score(y_test, y_pred))\n",
        "print(confusion_matrix(y_test, y_pred))\n",
        "print(precision_score(y_test, y_pred))\n",
        "print(recall_score(y_test, y_pred))\n",
        "print(f1_score(y_test, y_pred))"
      ],
      "metadata": {
        "id": "mQItA7MKz2dN"
      },
      "execution_count": null,
      "outputs": []
    },
    {
      "cell_type": "code",
      "source": [
        "import numpy as np\n",
        "import matplotlib.pyplot as plt\n",
        "import seaborn as sns\n",
        "\n",
        "# กำหนด Confusion Matrix\n",
        "# โดยสมมติให้ตำแหน่ง [0,0] = TN, [0,1] = FP, [1,0] = FN, [1,1] = TP\n",
        "# ดังนั้นค่าจะเป็น [[TN, FP],\n",
        "#                    [FN, TP]]\n",
        "cm = np.array([[1297, 8],\n",
        "               [   7, 893]])\n",
        "\n",
        "plt.figure(figsize=(6,5))\n",
        "\n",
        "# สร้าง Heatmap ด้วย Seaborn\n",
        "sns.heatmap(\n",
        "    cm,\n",
        "    annot=True,       # แสดงตัวเลขในแต่ละช่อง\n",
        "    fmt=\"d\",          # แสดงตัวเลขเป็นจำนวนเต็ม\n",
        "    cmap=\"Blues\",     # โทนสีฟ้า\n",
        "    cbar=True,        # แสดง color bar\n",
        "    xticklabels=[\"Predicted: No Disease\", \"Predicted: Disease\"],\n",
        "    yticklabels=[\"Actual: No Disease\", \"Actual: Disease\"]\n",
        ")\n",
        "\n",
        "plt.title(\"Confusion Matrix for Liver Disease Classification\", fontsize=14)\n",
        "plt.xlabel(\"Predicted Label\", fontsize=12)\n",
        "plt.ylabel(\"Actual Label\", fontsize=12)\n",
        "\n",
        "# ปรับขอบเขตแกน Y ไม่ให้ label ถูกครอบ (โดยค่าเริ่มต้นอาจกลับด้าน)\n",
        "plt.ylim([2, 0])  # หรือใช้ plt.gca().invert_yaxis()\n",
        "\n",
        "plt.show()\n"
      ],
      "metadata": {
        "id": "EiGA0Ls6o1m1"
      },
      "execution_count": null,
      "outputs": []
    },
    {
      "cell_type": "code",
      "source": [
        "from sklearn.model_selection import KFold, StratifiedKFold\n",
        "from sklearn.ensemble import ExtraTreesClassifier\n",
        "from sklearn.metrics import accuracy_score, precision_score, recall_score, f1_score, confusion_matrix\n",
        "import numpy as np\n",
        "\n",
        "# สร้างโมเดล ExtraTreesClassifier ที่คุณใช้และได้ผลดี\n",
        "model = ExtraTreesClassifier(n_estimators=100, random_state=42)\n",
        "\n",
        "# กำหนด 5-Fold Cross-Validation แบบ Stratified เพื่อรักษาสัดส่วน class\n",
        "kf = StratifiedKFold(n_splits=5, shuffle=True, random_state=42)\n",
        "\n",
        "# เตรียมตัวแปรสำหรับเก็บผลลัพธ์\n",
        "accuracy_scores = []\n",
        "precision_scores = []\n",
        "recall_scores = []\n",
        "f1_scores = []\n",
        "confusion_matrices = []\n",
        "\n",
        "# ทำ k-fold cross-validation ด้วยตัวเอง เพื่อเก็บ confusion matrix\n",
        "fold = 1\n",
        "for train_index, test_index in kf.split(X, y):\n",
        "    X_train_fold, X_test_fold = X.iloc[train_index], X.iloc[test_index]\n",
        "    y_train_fold, y_test_fold = y.iloc[train_index], y.iloc[test_index]\n",
        "\n",
        "    # ฝึกโมเดลกับข้อมูล training fold\n",
        "    model.fit(X_train_fold, y_train_fold)\n",
        "\n",
        "    # ทำนายผลลัพธ์\n",
        "    y_pred_fold = model.predict(X_test_fold)\n",
        "\n",
        "    # คำนวณ metrics\n",
        "    accuracy = accuracy_score(y_test_fold, y_pred_fold)\n",
        "    precision = precision_score(y_test_fold, y_pred_fold)\n",
        "    recall = recall_score(y_test_fold, y_pred_fold)\n",
        "    f1 = f1_score(y_test_fold, y_pred_fold)\n",
        "    conf_matrix = confusion_matrix(y_test_fold, y_pred_fold)\n",
        "\n",
        "    # เก็บผลลัพธ์\n",
        "    accuracy_scores.append(accuracy)\n",
        "    precision_scores.append(precision)\n",
        "    recall_scores.append(recall)\n",
        "    f1_scores.append(f1)\n",
        "    confusion_matrices.append(conf_matrix)\n",
        "\n",
        "    fold += 1\n",
        "\n",
        "# แปลงลิสต์เป็น numpy array\n",
        "accuracy_scores = np.array(accuracy_scores)\n",
        "precision_scores = np.array(precision_scores)\n",
        "recall_scores = np.array(recall_scores)\n",
        "f1_scores = np.array(f1_scores)\n",
        "\n",
        "# แสดงผลลัพธ์รวมทั้งหมด\n",
        "print(\"Cross-Validation Results (6 ทศนิยม):\")\n",
        "print(f\"Accuracy: {accuracy_scores.mean():.6f} (±{accuracy_scores.std():.6f})\")\n",
        "print(f\"Precision: {precision_scores.mean():.6f} (±{precision_scores.std():.6f})\")\n",
        "print(f\"Recall: {recall_scores.mean():.6f} (±{recall_scores.std():.6f})\")\n",
        "print(f\"F1 Score: {f1_scores.mean():.6f} (±{f1_scores.std():.6f})\")\n",
        "\n",
        "# แสดงผลลัพธ์แต่ละ fold\n",
        "print(\"\\nResults for each fold (6 ทศนิยม):\")\n",
        "for i in range(5):\n",
        "    print(f\"Fold {i+1}:\")\n",
        "    print(f\"  Accuracy: {accuracy_scores[i]:.6f}\")\n",
        "    print(f\"  Precision: {precision_scores[i]:.6f}\")\n",
        "    print(f\"  Recall: {recall_scores[i]:.6f}\")\n",
        "    print(f\"  F1 Score: {f1_scores[i]:.6f}\")\n",
        "    print(f\"  Confusion Matrix:\")\n",
        "    print(f\"    {confusion_matrices[i][0]}\")\n",
        "    print(f\"    {confusion_matrices[i][1]}\")"
      ],
      "metadata": {
        "id": "7Mf6XVhWznfL"
      },
      "execution_count": null,
      "outputs": []
    },
    {
      "cell_type": "code",
      "source": [
        "import matplotlib.pyplot as plt\n",
        "import seaborn as sns\n",
        "\n",
        "plt.figure(figsize=(8,5))\n",
        "sns.histplot(df['Total Bilirubin'], bins=30, kde=True)\n",
        "plt.title(\"Histogram of Total Bilirubin\")\n",
        "plt.xlabel(\"Total Bilirubin\")\n",
        "plt.ylabel(\"Frequency\")\n",
        "plt.show()\n"
      ],
      "metadata": {
        "id": "N8Mi8f5tmR4s"
      },
      "execution_count": null,
      "outputs": []
    },
    {
      "cell_type": "code",
      "source": [
        "# **1. Histogram & KDE Plot สำหรับทุกตัวแปร**\n",
        "num_cols = df.select_dtypes(include=['float64', 'int64']).columns  # เลือกเฉพาะตัวแปรเชิงตัวเลข\n",
        "\n",
        "fig, axes = plt.subplots(len(num_cols) // 3 + 1, 3, figsize=(15, 5 * (len(num_cols) // 3 + 1)))\n",
        "axes = axes.flatten()\n",
        "\n",
        "for i, col in enumerate(num_cols):\n",
        "    sns.histplot(df[col], bins=30, kde=True, ax=axes[i])\n",
        "    axes[i].set_title(f\"Histogram of {col}\")\n",
        "    axes[i].set_xlabel(col)\n",
        "    axes[i].set_ylabel(\"Frequency\")\n",
        "\n",
        "plt.tight_layout()\n",
        "plt.show()"
      ],
      "metadata": {
        "id": "15G8bqR2n_oS"
      },
      "execution_count": null,
      "outputs": []
    },
    {
      "cell_type": "code",
      "source": [
        "# **2. Boxplot เพื่อตรวจสอบ Outliers สำหรับทุกตัวแปร**\n",
        "plt.figure(figsize=(12, 6))\n",
        "sns.boxplot(data=df[num_cols])\n",
        "plt.title(\"Boxplot of All Numeric Features (Outliers Detection)\")\n",
        "plt.xticks(rotation=45)\n",
        "plt.show()"
      ],
      "metadata": {
        "id": "hfOjIc0IoZYp"
      },
      "execution_count": null,
      "outputs": []
    },
    {
      "cell_type": "code",
      "source": [
        "import matplotlib.pyplot as plt\n",
        "import seaborn as sns\n",
        "\n",
        "# เลือกเฉพาะตัวแปรตัวเลขและไม่นับรวม 'result'\n",
        "num_cols = df.select_dtypes(include=['float64', 'int64']).columns.difference(['Result'])\n",
        "\n",
        "plt.figure(figsize=(10, 8))\n",
        "sns.heatmap(df[num_cols].corr(), annot=True, cmap=\"coolwarm\", fmt=\".2f\")\n",
        "\n",
        "plt.title(\"Correlation Heatmap of All Features\")\n",
        "plt.show()\n"
      ],
      "metadata": {
        "id": "LJoHo2qLodAX"
      },
      "execution_count": null,
      "outputs": []
    },
    {
      "cell_type": "code",
      "source": [
        "numeric_cols = df.select_dtypes(include=[np.number]).columns\n",
        "for col in numeric_cols:\n",
        "    plt.figure(figsize=(6, 4))\n",
        "    sns.boxplot(x=df[col])\n",
        "    plt.title(f\"Boxplot of {col}\")\n",
        "    plt.show()\n",
        "df.shape"
      ],
      "metadata": {
        "id": "fkSvfOXeZA9P"
      },
      "execution_count": null,
      "outputs": []
    },
    {
      "cell_type": "code",
      "source": [
        "sns.boxplot(x=\"Result\", y=\"Total Bilirubin\", data=df)\n",
        "plt.title(\"Total Bilirubin vs Liver Disease Status\")\n",
        "plt.xlabel(\"Liver Disease Status\")\n",
        "plt.ylabel(\"Total Bilirubin\")\n",
        "plt.show()\n"
      ],
      "metadata": {
        "id": "AiRWLGxVbLSJ"
      },
      "execution_count": null,
      "outputs": []
    },
    {
      "cell_type": "code",
      "source": [
        "plt.figure(figsize=(10,6))\n",
        "sns.scatterplot(x=df[\"Sgpt_Alamine_Aminotransferase\"], y=df[\"Sgot_Aspartate_Aminotransferase\"], hue=df[\"Result\"], alpha=0.6)\n",
        "plt.title(\"Scatter Plot of Sgpt vs Sgot by Liver Disease Status\")\n",
        "plt.xlabel(\"Sgpt (ALT)\")\n",
        "plt.ylabel(\"Sgot (AST)\")\n",
        "plt.legend([\"Healthy\", \"Liver Disease\"])\n",
        "plt.show()\n"
      ],
      "metadata": {
        "id": "wNSGQRXzb39w"
      },
      "execution_count": null,
      "outputs": []
    },
    {
      "cell_type": "code",
      "source": [
        "plt.figure(figsize=(8,6))\n",
        "sns.scatterplot(x=df[\"Total Bilirubin\"], y=df[\"Direct Bilirubin\"])\n",
        "plt.title(\"Scatter Plot between Total Bilirubin and Direct Bilirubin\")\n",
        "plt.xlabel(\"Total Bilirubin\")\n",
        "plt.ylabel(\"Direct Bilirubin\")\n",
        "plt.show()\n"
      ],
      "metadata": {
        "id": "-5jJZ0WFTeWy"
      },
      "execution_count": null,
      "outputs": []
    },
    {
      "cell_type": "code",
      "source": [
        "plt.figure(figsize=(10,6))\n",
        "sns.boxplot(x=df[\"Result\"], y=df[\"Total Bilirubin\"])\n",
        "plt.title(\"Total Bilirubin across Different Result Groups\")\n",
        "plt.show()\n"
      ],
      "metadata": {
        "id": "Q49DbceuUEBl"
      },
      "execution_count": null,
      "outputs": []
    },
    {
      "cell_type": "code",
      "source": [
        "import matplotlib.pyplot as plt\n",
        "import seaborn as sns\n",
        "\n",
        "# เลือกเฉพาะตัวแปรที่เป็นตัวเลข และไม่นับ 'result' กับ 'gender'\n",
        "num_cols = df.select_dtypes(include=['float64', 'int64']).columns.difference(['Result', 'Gender of the patient'])\n",
        "\n",
        "# ตั้งค่าขนาดของกราฟ\n",
        "fig, axes = plt.subplots(len(num_cols) // 3 + 1, 3, figsize=(15, 5 * (len(num_cols) // 3 + 1)))\n",
        "axes = axes.flatten()\n",
        "\n",
        "# วาด KDE plot ของแต่ละตัวแปรแยกตาม 'result'\n",
        "for i, col in enumerate(num_cols):\n",
        "    sns.kdeplot(data=df, x=col, hue=\"Result\", fill=True, common_norm=False, alpha=0.4, ax=axes[i])\n",
        "    axes[i].set_title(f\"KDE Plot of {col} by Result\")\n",
        "    axes[i].set_xlabel(col)\n",
        "    axes[i].set_ylabel(\"Density\")\n",
        "\n",
        "# ซ่อนแกนที่ไม่ได้ใช้หากจำนวนตัวแปรไม่ลงตัว\n",
        "for j in range(i + 1, len(axes)):\n",
        "    fig.delaxes(axes[j])\n",
        "\n",
        "plt.tight_layout()\n",
        "plt.show()\n"
      ],
      "metadata": {
        "id": "LN4kyqxYojjn"
      },
      "execution_count": null,
      "outputs": []
    },
    {
      "cell_type": "markdown",
      "source": [
        "รูป Matrix For Liver Disease Classification"
      ],
      "metadata": {
        "id": "OACbXW7jQSU5"
      }
    },
    {
      "cell_type": "code",
      "source": [
        "import matplotlib.pyplot as plt\n",
        "import seaborn as sns\n",
        "\n",
        "# แปลงค่า 0 และ 1 ใน gender ให้เป็น 'Male' และ 'Female'\n",
        "df['Gender of the patient'] = df['Gender of the patient'].replace({0: 'Female', 1: 'Male'})\n",
        "\n",
        "# ตั้งค่าขนาดของกราฟ\n",
        "plt.figure(figsize=(12, 5))\n",
        "\n",
        "# พล็อตกราฟแนวนอน\n",
        "sns.countplot(data=df, y=\"Gender of the patient\", hue=\"Result\", palette=\"coolwarm\")\n",
        "\n",
        "# ใส่ชื่อแกนและ Title\n",
        "plt.ylabel(\"Gender\")  # แกน Y เป็น Gender\n",
        "plt.xlabel(\"Count\")  # แกน X เป็นจำนวน\n",
        "plt.title(\"Gender vs Result Distribution\")  # ชื่อกราฟ\n",
        "\n",
        "# แสดงค่าบนแท่งกราฟ\n",
        "for container in plt.gca().containers:\n",
        "    plt.gca().bar_label(container, fmt=\"%d\")\n",
        "\n",
        "plt.show()\n"
      ],
      "metadata": {
        "id": "_lDG1oDr0yIl"
      },
      "execution_count": null,
      "outputs": []
    }
  ]
}